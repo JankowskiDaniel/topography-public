{
 "cells": [
  {
   "cell_type": "code",
   "execution_count": 1,
   "metadata": {},
   "outputs": [],
   "source": [
    "\n",
    "from src.data_generation.datasets.generator import generate_dataset\n",
    "from src.data_generation.datasets.generator_noise_average import generate_noise_dataset"
   ]
  },
  {
   "cell_type": "markdown",
   "metadata": {},
   "source": [
    "## Generate average noise images ##"
   ]
  },
  {
   "cell_type": "code",
   "execution_count": 6,
   "metadata": {},
   "outputs": [
    {
     "name": "stderr",
     "output_type": "stream",
     "text": [
      "100%|██████████| 10/10 [00:26<00:00,  2.63s/it]\n"
     ]
    }
   ],
   "source": [
    "path_to_raw = r\"C:\\Users\\janko\\OneDrive\\Pulpit\\Artificial intelligence\\SEM5\\Problem classes 1\\topography-transfer\\data\\raw\\frames\"\n",
    "path = r\"C:\\Users\\janko\\OneDrive\\Pulpit\\Artificial intelligence\\SEM6\\topography-public\\data\\noise\\\\\"\n",
    "generate_noise_dataset(path=path,\n",
    "                       path_to_raw=path_to_raw,\n",
    "                       num_images=10)"
   ]
  },
  {
   "cell_type": "code",
   "execution_count": 2,
   "metadata": {},
   "outputs": [
    {
     "name": "stdout",
     "output_type": "stream",
     "text": [
      "5\n"
     ]
    },
    {
     "name": "stderr",
     "output_type": "stream",
     "text": [
      "100%|██████████| 5/5 [00:00<00:00, 24.02it/s]\n"
     ]
    }
   ],
   "source": [
    "params = {\n",
    "    \"width\": (30,150),\n",
    "    \"height\": (30,100),\n",
    "    \"x\": (0, 640),\n",
    "    \"y\": (0, 480)\n",
    "}\n",
    "\n",
    "path = r\"/home/shapke/Pulpit/Projekty/topography-public/data/datasets/blackbox_dataset/\"\n",
    "\"blackbox\"\n",
    "\"bubble\"\n",
    "\"pizza\"\n",
    "\"average\"\n",
    "generate_dataset(\n",
    "    noise_type=\"blackbox\",\n",
    "    path=path,\n",
    "    n_copies=1,\n",
    "    epsilon_range=(0.0, 0.1),\n",
    "    epsilon_step=0.02,\n",
    "    **params\n",
    ")"
   ]
  },
  {
   "cell_type": "code",
   "execution_count": 14,
   "metadata": {},
   "outputs": [
    {
     "name": "stderr",
     "output_type": "stream",
     "text": [
      "100%|██████████| 2/2 [00:00<00:00, 11.50it/s]\n"
     ]
    }
   ],
   "source": [
    "params = {\n",
    "    \"nr_of_pizzas\": (10,20),\n",
    "    \"center_point\": (320, 240),\n",
    "    \"channels\": 1,\n",
    "    \"strength\": (0,10)\n",
    "}\n",
    "\n",
    "path = r\"/home/shapke/Pulpit/Projekty/topography-public/data/datasets/pizza_dataset/\"\n",
    "\n",
    "generate_dataset(\n",
    "    noise_type=\"pizza\",\n",
    "    path=path,\n",
    "    seed=1,\n",
    "    n_copies=1,\n",
    "    epsilon_range=(0.0, 0.1),\n",
    "    epsilon_step=0.01,\n",
    "    **params\n",
    ")"
   ]
  },
  {
   "cell_type": "code",
   "execution_count": 15,
   "metadata": {},
   "outputs": [
    {
     "name": "stderr",
     "output_type": "stream",
     "text": [
      " 63%|██████▎   | 629/1000 [11:52<08:42,  1.41s/it]"
     ]
    }
   ],
   "source": [
    "params = {\n",
    "    \"spray_particles\": 800,\n",
    "    \"spray_diameter\": 8,\n",
    "    \"fringes_color\": None,\n",
    "    \"range_of_blobs\": (30,40)\n",
    "}\n",
    "\n",
    "path = r\"/home/shapke/Pulpit/Projekty/topography-public/data/datasets/bubble_dataset/\"\n",
    "\n",
    "generate_dataset(\n",
    "    noise_type=\"bubble\",\n",
    "    path=path,\n",
    "    n_copies=10,\n",
    "    seed=1,\n",
    "    epsilon_range=(0.0, 1.0),\n",
    "    epsilon_step=0.001,\n",
    "    zipfile = True,\n",
    "    filename=\"Bubble.zip\",\n",
    "    **params\n",
    ")"
   ]
  },
  {
   "cell_type": "code",
   "execution_count": 9,
   "metadata": {},
   "outputs": [
    {
     "name": "stderr",
     "output_type": "stream",
     "text": [
      " 20%|██        | 1/5 [00:00<00:00,  9.37it/s]"
     ]
    },
    {
     "name": "stderr",
     "output_type": "stream",
     "text": [
      "100%|██████████| 5/5 [00:00<00:00,  8.04it/s]\n"
     ]
    }
   ],
   "source": [
    "params = {\n",
    "    \"noise_path\": r\"C:\\Users\\janko\\OneDrive\\Pulpit\\Artificial intelligence\\SEM6\\topography-public\\data\\noise\\\\\"\n",
    "}\n",
    "\n",
    "path = r\"C:\\Users\\janko\\OneDrive\\Pulpit\\Artificial intelligence\\SEM6\\topography-public\\data\\generated\\\\\"\n",
    "generate_dataset(\n",
    "    noise_type=\"average\",\n",
    "    path=path,\n",
    "    n_copies=1,\n",
    "    epsilon_range=(0.0, 0.1),\n",
    "    epsilon_step=0.02,\n",
    "    **params\n",
    ")"
   ]
  },
  {
   "cell_type": "code",
   "execution_count": null,
   "metadata": {},
   "outputs": [],
   "source": []
  }
 ],
 "metadata": {
  "kernelspec": {
   "display_name": "venv",
   "language": "python",
   "name": "python3"
  },
  "language_info": {
   "codemirror_mode": {
    "name": "ipython",
    "version": 3
   },
   "file_extension": ".py",
   "mimetype": "text/x-python",
   "name": "python",
   "nbconvert_exporter": "python",
   "pygments_lexer": "ipython3",
   "version": "3.9.13"
  },
  "orig_nbformat": 4
 },
 "nbformat": 4,
 "nbformat_minor": 2
}
