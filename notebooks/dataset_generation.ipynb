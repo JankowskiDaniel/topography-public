{
 "cells": [
  {
   "cell_type": "code",
   "execution_count": 1,
   "metadata": {},
   "outputs": [],
   "source": [
    "import os\n",
    "import sys\n",
    "sys.path.append('..')"
   ]
  },
  {
   "cell_type": "markdown",
   "metadata": {},
   "source": [
    "# Pipeline"
   ]
  },
  {
   "cell_type": "code",
   "execution_count": 2,
   "metadata": {},
   "outputs": [],
   "source": [
    "GENERATE_NOISE = False"
   ]
  },
  {
   "cell_type": "code",
   "execution_count": 3,
   "metadata": {},
   "outputs": [],
   "source": [
    "NOISE_TYPE = \"steel\"\n",
    "NUM_RAW_IMAGES_FOR_NOISE_GENERATION = 100\n",
    "NUM_NOISE_IMAGES = 500\n",
    "\n"
   ]
  },
  {
   "cell_type": "markdown",
   "metadata": {},
   "source": [
    "## Lets make some noise"
   ]
  },
  {
   "cell_type": "code",
   "execution_count": 4,
   "metadata": {},
   "outputs": [],
   "source": [
    "from src.data_generation.datasets.generator_noise_average import generate_noise_dataset"
   ]
  },
  {
   "cell_type": "code",
   "execution_count": 5,
   "metadata": {},
   "outputs": [],
   "source": [
    "path_repo = os.path.dirname(os.getcwd())\n",
    "path_raw = os.path.join(path_repo ,\"data/raw/\", NOISE_TYPE)\n",
    "path_noise = os.path.join(path_repo ,\"data/noise/\", NOISE_TYPE)"
   ]
  },
  {
   "cell_type": "code",
   "execution_count": 6,
   "metadata": {},
   "outputs": [],
   "source": [
    "if GENERATE_NOISE:\n",
    "    generate_noise_dataset(\n",
    "        path_to_raw=path_raw,\n",
    "        path=path_noise,\n",
    "        num_images=NUM_NOISE_IMAGES,\n",
    "        num_used_raw_images=NUM_RAW_IMAGES_FOR_NOISE_GENERATION,\n",
    "        seed=23)"
   ]
  },
  {
   "cell_type": "markdown",
   "metadata": {},
   "source": [
    "## Artificial images generation"
   ]
  },
  {
   "cell_type": "code",
   "execution_count": 7,
   "metadata": {},
   "outputs": [],
   "source": [
    "from src.data_generation.datasets.generator import generate_dataset"
   ]
  },
  {
   "cell_type": "code",
   "execution_count": 8,
   "metadata": {},
   "outputs": [],
   "source": [
    "params = {\n",
    "    # params for blackbox\n",
    "    \"width\": (30,150),\n",
    "    \"height\": (30,100),\n",
    "    \"x\": (0, 640),\n",
    "    \"y\": (0, 480),\n",
    "    # params for pizza\n",
    "    \"nr_of_pizzas\": (10,20),\n",
    "    \"center_point\": (320, 240),\n",
    "    \"channels\": 1,\n",
    "    \"strength\": (10,20),\n",
    "    # params for average\n",
    "    \"noise_path\": path_noise,\n",
    "    # params for bubble\n",
    "    \"spray_particles\": 800,\n",
    "    \"spray_diameter\": 8,\n",
    "    \"fringes_color\": None,\n",
    "    \"range_of_blobs\": (30,40)\n",
    "}"
   ]
  },
  {
   "cell_type": "markdown",
   "metadata": {},
   "source": [
    "### All"
   ]
  },
  {
   "cell_type": "code",
   "execution_count": 11,
   "metadata": {},
   "outputs": [
    {
     "name": "stderr",
     "output_type": "stream",
     "text": [
      "100%|██████████| 1000/1000 [17:58<00:00,  1.08s/it]\n"
     ]
    }
   ],
   "source": [
    "path_generated_all = os.path.join(path_repo ,\"data/generated/all\", NOISE_TYPE)\n",
    "generate_dataset(\n",
    "    noise_type=[\"bubble\", \"pizza\", \"average\", \"blackbox\"],\n",
    "    path=path_generated_all,\n",
    "    n_copies=10,\n",
    "    epsilon_range=(0.0, 1.0),\n",
    "    epsilon_step=0.001,\n",
    "    seed=23,\n",
    "    **params\n",
    ")"
   ]
  },
  {
   "cell_type": "markdown",
   "metadata": {},
   "source": [
    "### Average"
   ]
  },
  {
   "cell_type": "code",
   "execution_count": 10,
   "metadata": {},
   "outputs": [
    {
     "name": "stderr",
     "output_type": "stream",
     "text": [
      "100%|██████████| 1000/1000 [05:37<00:00,  2.97it/s]\n"
     ]
    }
   ],
   "source": [
    "path_generated_average = os.path.join(path_repo ,\"data/generated/average\", NOISE_TYPE)\n",
    "generate_dataset(\n",
    "    noise_type=[\"average\"],\n",
    "    path=path_generated_average,\n",
    "    n_copies=10,\n",
    "    epsilon_range=(0.0, 1.0),\n",
    "    epsilon_step=0.001,\n",
    "    seed=23,\n",
    "    **params\n",
    ")"
   ]
  }
 ],
 "metadata": {
  "kernelspec": {
   "display_name": "SI",
   "language": "python",
   "name": "python3"
  },
  "language_info": {
   "codemirror_mode": {
    "name": "ipython",
    "version": 3
   },
   "file_extension": ".py",
   "mimetype": "text/x-python",
   "name": "python",
   "nbconvert_exporter": "python",
   "pygments_lexer": "ipython3",
   "version": "3.10.12"
  },
  "orig_nbformat": 4
 },
 "nbformat": 4,
 "nbformat_minor": 2
}
