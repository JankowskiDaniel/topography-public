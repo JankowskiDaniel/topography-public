{
 "cells": [
  {
   "cell_type": "code",
   "execution_count": 1,
   "metadata": {},
   "outputs": [],
   "source": [
    "import os\n",
    "import sys\n",
    "sys.path.append('..')"
   ]
  },
  {
   "cell_type": "markdown",
   "metadata": {},
   "source": [
    "# Pipeline"
   ]
  },
  {
   "cell_type": "code",
   "execution_count": 2,
   "metadata": {},
   "outputs": [],
   "source": [
    "GENERATE_NOISE = False"
   ]
  },
  {
   "cell_type": "code",
   "execution_count": 3,
   "metadata": {},
   "outputs": [],
   "source": [
    "NOISE_TYPE = \"steel\"\n",
    "NUM_RAW_IMAGES_FOR_NOISE_GENERATION = 100\n",
    "NUM_NOISE_IMAGES = 500\n",
    "\n"
   ]
  },
  {
   "cell_type": "markdown",
   "metadata": {},
   "source": [
    "## Lets make some noise"
   ]
  },
  {
   "cell_type": "code",
   "execution_count": 4,
   "metadata": {},
   "outputs": [],
   "source": [
    "from src.data_generation.noise.generator_noise_average import generate_noise_dataset"
   ]
  },
  {
   "cell_type": "code",
   "execution_count": 5,
   "metadata": {},
   "outputs": [],
   "source": [
    "path_repo = os.path.dirname(os.getcwd())\n",
    "path_raw = os.path.join(path_repo ,\"data/raw/\", NOISE_TYPE)\n",
    "path_noise = os.path.join(path_repo ,\"data/noise/\", NOISE_TYPE)"
   ]
  },
  {
   "cell_type": "code",
   "execution_count": 6,
   "metadata": {},
   "outputs": [],
   "source": [
    "if GENERATE_NOISE:\n",
    "    generate_noise_dataset(\n",
    "        path_to_raw=path_raw,\n",
    "        path=path_noise,\n",
    "        num_images=NUM_NOISE_IMAGES,\n",
    "        num_used_raw_images=NUM_RAW_IMAGES_FOR_NOISE_GENERATION,\n",
    "        seed=23)"
   ]
  },
  {
   "cell_type": "markdown",
   "metadata": {},
   "source": [
    "## Artificial images generation"
   ]
  },
  {
   "cell_type": "code",
   "execution_count": 7,
   "metadata": {},
   "outputs": [],
   "source": [
    "import cv2\n",
    "from src.data_generation.image.decorators.abstract_image import AbstractImage\n",
    "from src.data_generation.image.decorators.blackbox import BlackBox\n",
    "from src.data_generation.image.decorators.bubble import Bubble\n",
    "from src.data_generation.image.decorators.image import Image\n",
    "from src.data_generation.image.decorators.pizza import Pizza"
   ]
  },
  {
   "cell_type": "code",
   "execution_count": 8,
   "metadata": {},
   "outputs": [
    {
     "name": "stderr",
     "output_type": "stream",
     "text": [
      "qt.qpa.plugin: Could not find the Qt platform plugin \"wayland\" in \"/home/shapke/Pulpit/.venv/lib/python3.10/site-packages/cv2/qt/plugins\"\n"
     ]
    }
   ],
   "source": [
    "def generate_image(component: AbstractImage, name=\"img\") -> None:\n",
    "    cv2.imshow(name, component.generate())\n",
    "    cv2.waitKey(0)\n",
    "\n",
    "    cv2.destroyAllWindows()\n",
    "\n",
    "\n",
    "if __name__ == \"__main__\":\n",
    "    size = [640, 480]\n",
    "    epsilon = 0.1\n",
    "    ring_center = [300, 250]\n",
    "    brightness = [100, 210]\n",
    "\n",
    "    SPRAY_PARTICLES = 800\n",
    "    SPRAY_DIAMETER = 8\n",
    "    fringes_color = None\n",
    "    range_of_blobs = [30, 40]\n",
    "\n",
    "    simple = Image(size, epsilon, ring_center, brightness)\n",
    "\n",
    "    generate_image(simple, \"basic\")\n",
    "\n",
    "    # If you comment a section the noise will not be added.\n",
    "    img = Bubble(\n",
    "        simple,\n",
    "        SPRAY_PARTICLES=None,\n",
    "        SPRAY_DIAMETER=None,\n",
    "        fringes_color=None,\n",
    "        range_of_blobs=range_of_blobs,\n",
    "        sigma=100,\n",
    "    )\n",
    "    img = Pizza(img)\n",
    "    img = BlackBox(img)\n",
    "    generate_image(img, \"final\")"
   ]
  }
 ],
 "metadata": {
  "kernelspec": {
   "display_name": "SI",
   "language": "python",
   "name": "python3"
  },
  "language_info": {
   "codemirror_mode": {
    "name": "ipython",
    "version": 3
   },
   "file_extension": ".py",
   "mimetype": "text/x-python",
   "name": "python",
   "nbconvert_exporter": "python",
   "pygments_lexer": "ipython3",
   "version": "3.10.12"
  },
  "orig_nbformat": 4
 },
 "nbformat": 4,
 "nbformat_minor": 2
}
